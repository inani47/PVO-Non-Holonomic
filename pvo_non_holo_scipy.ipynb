{
 "cells": [
  {
   "attachments": {},
   "cell_type": "markdown",
   "metadata": {},
   "source": [
    "Imports"
   ]
  },
  {
   "cell_type": "code",
   "execution_count": 340,
   "metadata": {},
   "outputs": [],
   "source": [
    "import numpy as np\n",
    "import matplotlib.pyplot as plt\n",
    "from scipy import optimize\n",
    "import math\n",
    "from IPython import display"
   ]
  },
  {
   "attachments": {},
   "cell_type": "markdown",
   "metadata": {},
   "source": [
    "Experiment Set up"
   ]
  },
  {
   "cell_type": "code",
   "execution_count": 341,
   "metadata": {},
   "outputs": [
    {
     "name": "stdout",
     "output_type": "stream",
     "text": [
      "0.7853981633974483\n",
      "<class 'numpy.ndarray'>\n"
     ]
    }
   ],
   "source": [
    "r_rad = 0.5\n",
    "obs_rad = 0.5\n",
    "r_pos = np.array([1.0,1.0])\n",
    "r_vel = np.array([0.0,0.0]) #v,omega\n",
    "r_heading = 0.0\n",
    "linear_vel = np.array([r_vel[0]*math.cos(r_heading), r_vel[0]*math.sin(r_heading)])\n",
    "goal = np.array([15.0,15.0])\n",
    "obst_pos = np.array([7.5,7.5])\n",
    "obst_vel = np.array([-1.0, -1.0])\n",
    "dt = 0.1\n",
    "v_max=  1.0\n",
    "v_min = 0.2\n",
    "w_cap = 0.5\n",
    "\n",
    "goal_heading = math.atan2(goal[1]-r_pos[1],goal[0]-r_pos[0])\n",
    "\n",
    "print(goal_heading)\n",
    "rel_pos = obst_pos - r_pos\n",
    "rel_vel = obst_vel - linear_vel\n",
    "print(type(rel_vel))\n",
    "\n",
    "mu_x = 0\n",
    "std_x = 0.15\n",
    "\n",
    "mu_y = 0\n",
    "std_y = 0.15\n",
    "\n",
    "n_samples = 10"
   ]
  },
  {
   "attachments": {},
   "cell_type": "markdown",
   "metadata": {},
   "source": [
    "Taylor Approximation of Velocity Obstacle Constraint"
   ]
  },
  {
   "cell_type": "code",
   "execution_count": 342,
   "metadata": {},
   "outputs": [],
   "source": [
    "def taylor_approx(v,w,dt,a,r1,r2,r,R,head):\n",
    "    t0=(v**2)*(r1*math.cos(head + a*dt) +r2*math.sin(head + a*dt))**2 + (v**2)*((r+R)**2 - (r1**2 + r2**2) )\n",
    "    d = 2*(v**2)*(dt)*(r1*math.cos((head + a*dt)) + r2*math.sin(head + a*dt))*(-r1*math.sin(head + a*dt) + r2*math.cos(head + a*dt))*(w-a)\n",
    "    return (t0 + d)"
   ]
  },
  {
   "attachments": {},
   "cell_type": "markdown",
   "metadata": {},
   "source": [
    "Cost Function"
   ]
  },
  {
   "cell_type": "code",
   "execution_count": 343,
   "metadata": {},
   "outputs": [],
   "source": [
    "def cost_fn(u, v_des, heading_des, v_cur, heading_cur, current_rel_p,current_rel_v,agent_r, obs_r,agent_v,dt ):\n",
    "    # Store the list of function calls\n",
    "    return (v_des - (v_cur[0] + u[0]))**2 + (heading_des - (heading_cur + (v_cur[1] + u[1])*dt)) **2"
   ]
  },
  {
   "attachments": {},
   "cell_type": "markdown",
   "metadata": {},
   "source": [
    "Constraints"
   ]
  },
  {
   "cell_type": "code",
   "execution_count": 344,
   "metadata": {},
   "outputs": [],
   "source": [
    "def obt_avoidance_constraint(u, v_des, heading_des, v_cur, heading_cur, current_rel_p,current_rel_v,agent_r, obs_r,agent_v,dt):\n",
    "    mu_x = 0\n",
    "    std_x = 0.15\n",
    "\n",
    "    mu_y = 0\n",
    "    std_y = 0.15\n",
    "    n_samples = 10\n",
    "\n",
    "    noisy_rel_p = rel_pos.reshape(-1,1) + np.array([np.random.normal(mu_x, std_x, n_samples), np.random.normal(mu_y, std_y, n_samples) ])\n",
    "    v0=(agent_v[0])*np.array([math.cos(0), math.sin(0)])\n",
    "    v1=(agent_v[0] + u[0]) *np.array([math.cos((agent_v[1] + u[1])*dt), math.sin((agent_v[1] + u[1])*dt)])\n",
    "    fut_rel_v =current_rel_v + v0 -v1 \n",
    "    linear_vel = np.linalg.norm(current_rel_v) #math.sqrt(noisy_rel_p[:][0]**2 + noisy_rel_p[:][1]**2) \n",
    "    new_head = math.atan2(fut_rel_v[1],fut_rel_v[0])\n",
    "    a = math.atan2(current_rel_v[1],current_rel_v[0])\n",
    "\n",
    "    if (a>3 and new_head<0):\n",
    "        new_head =new_head +2*math.pi \n",
    "    elif(a<(-3) and new_head>0 ) :\n",
    "        new_head = new_head-2*math.pi\n",
    "    ang_vel = (new_head-a)/dt\n",
    "    r = noisy_rel_p\n",
    "    t = taylor_approx(linear_vel,ang_vel,dt,0,r[:][0],r[:][1],obs_r,agent_r,a)\n",
    "    #print(t.shape)\n",
    "   # wait = input(\"Press Enter to continue.\")\n",
    "    s= np.std(t)\n",
    "    m = np.mean(t)\n",
    "    return m+ (1*s)\n",
    "    \n",
    "    "
   ]
  },
  {
   "attachments": {},
   "cell_type": "markdown",
   "metadata": {},
   "source": [
    "Update"
   ]
  },
  {
   "cell_type": "code",
   "execution_count": 345,
   "metadata": {},
   "outputs": [
    {
     "data": {
      "text/plain": [
       "<Figure size 640x480 with 0 Axes>"
      ]
     },
     "metadata": {},
     "output_type": "display_data"
    },
    {
     "ename": "KeyboardInterrupt",
     "evalue": "",
     "output_type": "error",
     "traceback": [
      "\u001b[0;31m---------------------------------------------------------------------------\u001b[0m",
      "\u001b[0;31mKeyboardInterrupt\u001b[0m                         Traceback (most recent call last)",
      "Cell \u001b[0;32mIn [345], line 90\u001b[0m\n\u001b[1;32m     87\u001b[0m ax\u001b[39m.\u001b[39madd_patch(goal_plt)\n\u001b[1;32m     88\u001b[0m ax\u001b[39m.\u001b[39marrow(r_pos[\u001b[39m0\u001b[39m],r_pos[\u001b[39m1\u001b[39m], math\u001b[39m.\u001b[39mcos(r_heading),  math\u001b[39m.\u001b[39msin(r_heading), head_width \u001b[39m=\u001b[39m \u001b[39m0.2\u001b[39m, width \u001b[39m=\u001b[39m \u001b[39m0.05\u001b[39m)\n\u001b[0;32m---> 90\u001b[0m plt\u001b[39m.\u001b[39;49mpause(\u001b[39m0.1\u001b[39;49m)\n\u001b[1;32m     91\u001b[0m display\u001b[39m.\u001b[39mclear_output(wait\u001b[39m=\u001b[39m\u001b[39mTrue\u001b[39;00m)\n\u001b[1;32m     92\u001b[0m display\u001b[39m.\u001b[39mdisplay(plt\u001b[39m.\u001b[39mgcf())\n",
      "File \u001b[0;32m/usr/lib/python3/dist-packages/matplotlib/pyplot.py:309\u001b[0m, in \u001b[0;36mpause\u001b[0;34m(interval)\u001b[0m\n\u001b[1;32m    307\u001b[0m     \u001b[39mif\u001b[39;00m canvas\u001b[39m.\u001b[39mfigure\u001b[39m.\u001b[39mstale:\n\u001b[1;32m    308\u001b[0m         canvas\u001b[39m.\u001b[39mdraw_idle()\n\u001b[0;32m--> 309\u001b[0m     show(block\u001b[39m=\u001b[39;49m\u001b[39mFalse\u001b[39;49;00m)\n\u001b[1;32m    310\u001b[0m     canvas\u001b[39m.\u001b[39mstart_event_loop(interval)\n\u001b[1;32m    311\u001b[0m \u001b[39melse\u001b[39;00m:\n",
      "File \u001b[0;32m/usr/lib/python3/dist-packages/matplotlib/pyplot.py:269\u001b[0m, in \u001b[0;36mshow\u001b[0;34m(*args, **kw)\u001b[0m\n\u001b[1;32m    252\u001b[0m \u001b[39m\"\"\"\u001b[39;00m\n\u001b[1;32m    253\u001b[0m \u001b[39mDisplay a figure.\u001b[39;00m\n\u001b[1;32m    254\u001b[0m \n\u001b[0;32m   (...)\u001b[0m\n\u001b[1;32m    266\u001b[0m \u001b[39mdescribed above.\u001b[39;00m\n\u001b[1;32m    267\u001b[0m \u001b[39m\"\"\"\u001b[39;00m\n\u001b[1;32m    268\u001b[0m \u001b[39mglobal\u001b[39;00m _show\n\u001b[0;32m--> 269\u001b[0m \u001b[39mreturn\u001b[39;00m _show(\u001b[39m*\u001b[39;49margs, \u001b[39m*\u001b[39;49m\u001b[39m*\u001b[39;49mkw)\n",
      "File \u001b[0;32m~/.local/lib/python3.8/site-packages/matplotlib_inline/backend_inline.py:90\u001b[0m, in \u001b[0;36mshow\u001b[0;34m(close, block)\u001b[0m\n\u001b[1;32m     88\u001b[0m \u001b[39mtry\u001b[39;00m:\n\u001b[1;32m     89\u001b[0m     \u001b[39mfor\u001b[39;00m figure_manager \u001b[39min\u001b[39;00m Gcf\u001b[39m.\u001b[39mget_all_fig_managers():\n\u001b[0;32m---> 90\u001b[0m         display(\n\u001b[1;32m     91\u001b[0m             figure_manager\u001b[39m.\u001b[39;49mcanvas\u001b[39m.\u001b[39;49mfigure,\n\u001b[1;32m     92\u001b[0m             metadata\u001b[39m=\u001b[39;49m_fetch_figure_metadata(figure_manager\u001b[39m.\u001b[39;49mcanvas\u001b[39m.\u001b[39;49mfigure)\n\u001b[1;32m     93\u001b[0m         )\n\u001b[1;32m     94\u001b[0m \u001b[39mfinally\u001b[39;00m:\n\u001b[1;32m     95\u001b[0m     show\u001b[39m.\u001b[39m_to_draw \u001b[39m=\u001b[39m []\n",
      "File \u001b[0;32m~/.local/lib/python3.8/site-packages/IPython/core/display_functions.py:298\u001b[0m, in \u001b[0;36mdisplay\u001b[0;34m(include, exclude, metadata, transient, display_id, raw, clear, *objs, **kwargs)\u001b[0m\n\u001b[1;32m    296\u001b[0m     publish_display_data(data\u001b[39m=\u001b[39mobj, metadata\u001b[39m=\u001b[39mmetadata, \u001b[39m*\u001b[39m\u001b[39m*\u001b[39mkwargs)\n\u001b[1;32m    297\u001b[0m \u001b[39melse\u001b[39;00m:\n\u001b[0;32m--> 298\u001b[0m     format_dict, md_dict \u001b[39m=\u001b[39m \u001b[39mformat\u001b[39;49m(obj, include\u001b[39m=\u001b[39;49minclude, exclude\u001b[39m=\u001b[39;49mexclude)\n\u001b[1;32m    299\u001b[0m     \u001b[39mif\u001b[39;00m \u001b[39mnot\u001b[39;00m format_dict:\n\u001b[1;32m    300\u001b[0m         \u001b[39m# nothing to display (e.g. _ipython_display_ took over)\u001b[39;00m\n\u001b[1;32m    301\u001b[0m         \u001b[39mcontinue\u001b[39;00m\n",
      "File \u001b[0;32m~/.local/lib/python3.8/site-packages/IPython/core/formatters.py:178\u001b[0m, in \u001b[0;36mDisplayFormatter.format\u001b[0;34m(self, obj, include, exclude)\u001b[0m\n\u001b[1;32m    176\u001b[0m md \u001b[39m=\u001b[39m \u001b[39mNone\u001b[39;00m\n\u001b[1;32m    177\u001b[0m \u001b[39mtry\u001b[39;00m:\n\u001b[0;32m--> 178\u001b[0m     data \u001b[39m=\u001b[39m formatter(obj)\n\u001b[1;32m    179\u001b[0m \u001b[39mexcept\u001b[39;00m:\n\u001b[1;32m    180\u001b[0m     \u001b[39m# FIXME: log the exception\u001b[39;00m\n\u001b[1;32m    181\u001b[0m     \u001b[39mraise\u001b[39;00m\n",
      "File \u001b[0;32m~/.local/lib/python3.8/site-packages/decorator.py:232\u001b[0m, in \u001b[0;36mdecorate.<locals>.fun\u001b[0;34m(*args, **kw)\u001b[0m\n\u001b[1;32m    230\u001b[0m \u001b[39mif\u001b[39;00m \u001b[39mnot\u001b[39;00m kwsyntax:\n\u001b[1;32m    231\u001b[0m     args, kw \u001b[39m=\u001b[39m fix(args, kw, sig)\n\u001b[0;32m--> 232\u001b[0m \u001b[39mreturn\u001b[39;00m caller(func, \u001b[39m*\u001b[39;49m(extras \u001b[39m+\u001b[39;49m args), \u001b[39m*\u001b[39;49m\u001b[39m*\u001b[39;49mkw)\n",
      "File \u001b[0;32m~/.local/lib/python3.8/site-packages/IPython/core/formatters.py:222\u001b[0m, in \u001b[0;36mcatch_format_error\u001b[0;34m(method, self, *args, **kwargs)\u001b[0m\n\u001b[1;32m    220\u001b[0m \u001b[39m\"\"\"show traceback on failed format call\"\"\"\u001b[39;00m\n\u001b[1;32m    221\u001b[0m \u001b[39mtry\u001b[39;00m:\n\u001b[0;32m--> 222\u001b[0m     r \u001b[39m=\u001b[39m method(\u001b[39mself\u001b[39;49m, \u001b[39m*\u001b[39;49margs, \u001b[39m*\u001b[39;49m\u001b[39m*\u001b[39;49mkwargs)\n\u001b[1;32m    223\u001b[0m \u001b[39mexcept\u001b[39;00m \u001b[39mNotImplementedError\u001b[39;00m:\n\u001b[1;32m    224\u001b[0m     \u001b[39m# don't warn on NotImplementedErrors\u001b[39;00m\n\u001b[1;32m    225\u001b[0m     \u001b[39mreturn\u001b[39;00m \u001b[39mself\u001b[39m\u001b[39m.\u001b[39m_check_return(\u001b[39mNone\u001b[39;00m, args[\u001b[39m0\u001b[39m])\n",
      "File \u001b[0;32m~/.local/lib/python3.8/site-packages/IPython/core/formatters.py:339\u001b[0m, in \u001b[0;36mBaseFormatter.__call__\u001b[0;34m(self, obj)\u001b[0m\n\u001b[1;32m    337\u001b[0m     \u001b[39mpass\u001b[39;00m\n\u001b[1;32m    338\u001b[0m \u001b[39melse\u001b[39;00m:\n\u001b[0;32m--> 339\u001b[0m     \u001b[39mreturn\u001b[39;00m printer(obj)\n\u001b[1;32m    340\u001b[0m \u001b[39m# Finally look for special method names\u001b[39;00m\n\u001b[1;32m    341\u001b[0m method \u001b[39m=\u001b[39m get_real_method(obj, \u001b[39mself\u001b[39m\u001b[39m.\u001b[39mprint_method)\n",
      "File \u001b[0;32m~/.local/lib/python3.8/site-packages/IPython/core/pylabtools.py:151\u001b[0m, in \u001b[0;36mprint_figure\u001b[0;34m(fig, fmt, bbox_inches, base64, **kwargs)\u001b[0m\n\u001b[1;32m    148\u001b[0m     \u001b[39mfrom\u001b[39;00m \u001b[39mmatplotlib\u001b[39;00m\u001b[39m.\u001b[39;00m\u001b[39mbackend_bases\u001b[39;00m \u001b[39mimport\u001b[39;00m FigureCanvasBase\n\u001b[1;32m    149\u001b[0m     FigureCanvasBase(fig)\n\u001b[0;32m--> 151\u001b[0m fig\u001b[39m.\u001b[39;49mcanvas\u001b[39m.\u001b[39;49mprint_figure(bytes_io, \u001b[39m*\u001b[39;49m\u001b[39m*\u001b[39;49mkw)\n\u001b[1;32m    152\u001b[0m data \u001b[39m=\u001b[39m bytes_io\u001b[39m.\u001b[39mgetvalue()\n\u001b[1;32m    153\u001b[0m \u001b[39mif\u001b[39;00m fmt \u001b[39m==\u001b[39m \u001b[39m'\u001b[39m\u001b[39msvg\u001b[39m\u001b[39m'\u001b[39m:\n",
      "File \u001b[0;32m/usr/lib/python3/dist-packages/matplotlib/backend_bases.py:2066\u001b[0m, in \u001b[0;36mFigureCanvasBase.print_figure\u001b[0;34m(self, filename, dpi, facecolor, edgecolor, orientation, format, bbox_inches, **kwargs)\u001b[0m\n\u001b[1;32m   2064\u001b[0m renderer \u001b[39m=\u001b[39m \u001b[39mself\u001b[39m\u001b[39m.\u001b[39mfigure\u001b[39m.\u001b[39m_cachedRenderer\n\u001b[1;32m   2065\u001b[0m bbox_artists \u001b[39m=\u001b[39m kwargs\u001b[39m.\u001b[39mpop(\u001b[39m\"\u001b[39m\u001b[39mbbox_extra_artists\u001b[39m\u001b[39m\"\u001b[39m, \u001b[39mNone\u001b[39;00m)\n\u001b[0;32m-> 2066\u001b[0m bbox_inches \u001b[39m=\u001b[39m \u001b[39mself\u001b[39;49m\u001b[39m.\u001b[39;49mfigure\u001b[39m.\u001b[39;49mget_tightbbox(renderer,\n\u001b[1;32m   2067\u001b[0m         bbox_extra_artists\u001b[39m=\u001b[39;49mbbox_artists)\n\u001b[1;32m   2068\u001b[0m pad \u001b[39m=\u001b[39m kwargs\u001b[39m.\u001b[39mpop(\u001b[39m\"\u001b[39m\u001b[39mpad_inches\u001b[39m\u001b[39m\"\u001b[39m, \u001b[39mNone\u001b[39;00m)\n\u001b[1;32m   2069\u001b[0m \u001b[39mif\u001b[39;00m pad \u001b[39mis\u001b[39;00m \u001b[39mNone\u001b[39;00m:\n",
      "File \u001b[0;32m/usr/lib/python3/dist-packages/matplotlib/figure.py:2367\u001b[0m, in \u001b[0;36mFigure.get_tightbbox\u001b[0;34m(self, renderer, bbox_extra_artists)\u001b[0m\n\u001b[1;32m   2364\u001b[0m     artists \u001b[39m=\u001b[39m bbox_extra_artists\n\u001b[1;32m   2366\u001b[0m \u001b[39mfor\u001b[39;00m a \u001b[39min\u001b[39;00m artists:\n\u001b[0;32m-> 2367\u001b[0m     bbox \u001b[39m=\u001b[39m a\u001b[39m.\u001b[39;49mget_tightbbox(renderer)\n\u001b[1;32m   2368\u001b[0m     \u001b[39mif\u001b[39;00m bbox \u001b[39mis\u001b[39;00m \u001b[39mnot\u001b[39;00m \u001b[39mNone\u001b[39;00m \u001b[39mand\u001b[39;00m (bbox\u001b[39m.\u001b[39mwidth \u001b[39m!=\u001b[39m \u001b[39m0\u001b[39m \u001b[39mor\u001b[39;00m bbox\u001b[39m.\u001b[39mheight \u001b[39m!=\u001b[39m \u001b[39m0\u001b[39m):\n\u001b[1;32m   2369\u001b[0m         bb\u001b[39m.\u001b[39mappend(bbox)\n",
      "File \u001b[0;32m/usr/lib/python3/dist-packages/matplotlib/axis.py:1162\u001b[0m, in \u001b[0;36mAxis.get_tightbbox\u001b[0;34m(self, renderer)\u001b[0m\n\u001b[1;32m   1159\u001b[0m \u001b[39mif\u001b[39;00m \u001b[39mnot\u001b[39;00m \u001b[39mself\u001b[39m\u001b[39m.\u001b[39mget_visible():\n\u001b[1;32m   1160\u001b[0m     \u001b[39mreturn\u001b[39;00m\n\u001b[0;32m-> 1162\u001b[0m ticks_to_draw \u001b[39m=\u001b[39m \u001b[39mself\u001b[39;49m\u001b[39m.\u001b[39;49m_update_ticks()\n\u001b[1;32m   1164\u001b[0m \u001b[39mself\u001b[39m\u001b[39m.\u001b[39m_update_label_position(renderer)\n\u001b[1;32m   1166\u001b[0m \u001b[39m# go back to just this axis's tick labels\u001b[39;00m\n",
      "File \u001b[0;32m/usr/lib/python3/dist-packages/matplotlib/axis.py:1087\u001b[0m, in \u001b[0;36mAxis._update_ticks\u001b[0;34m(self)\u001b[0m\n\u001b[1;32m   1085\u001b[0m     tick\u001b[39m.\u001b[39mset_label1(label)\n\u001b[1;32m   1086\u001b[0m     tick\u001b[39m.\u001b[39mset_label2(label)\n\u001b[0;32m-> 1087\u001b[0m minor_locs \u001b[39m=\u001b[39m \u001b[39mself\u001b[39;49m\u001b[39m.\u001b[39;49mget_minorticklocs()\n\u001b[1;32m   1088\u001b[0m minor_labels \u001b[39m=\u001b[39m \u001b[39mself\u001b[39m\u001b[39m.\u001b[39mminor\u001b[39m.\u001b[39mformatter\u001b[39m.\u001b[39mformat_ticks(minor_locs)\n\u001b[1;32m   1089\u001b[0m minor_ticks \u001b[39m=\u001b[39m \u001b[39mself\u001b[39m\u001b[39m.\u001b[39mget_minor_ticks(\u001b[39mlen\u001b[39m(minor_locs))\n",
      "File \u001b[0;32m/usr/lib/python3/dist-packages/matplotlib/axis.py:1329\u001b[0m, in \u001b[0;36mAxis.get_minorticklocs\u001b[0;34m(self)\u001b[0m\n\u001b[1;32m   1327\u001b[0m \u001b[39m\"\"\"Get the array of minor tick locations in data coordinates.\"\"\"\u001b[39;00m\n\u001b[1;32m   1328\u001b[0m \u001b[39m# Remove minor ticks duplicating major ticks.\u001b[39;00m\n\u001b[0;32m-> 1329\u001b[0m major_locs \u001b[39m=\u001b[39m \u001b[39mself\u001b[39;49m\u001b[39m.\u001b[39;49mmajor\u001b[39m.\u001b[39;49mlocator()\n\u001b[1;32m   1330\u001b[0m minor_locs \u001b[39m=\u001b[39m \u001b[39mself\u001b[39m\u001b[39m.\u001b[39mminor\u001b[39m.\u001b[39mlocator()\n\u001b[1;32m   1331\u001b[0m transform \u001b[39m=\u001b[39m \u001b[39mself\u001b[39m\u001b[39m.\u001b[39m_scale\u001b[39m.\u001b[39mget_transform()\n",
      "File \u001b[0;32m/usr/lib/python3/dist-packages/matplotlib/ticker.py:2081\u001b[0m, in \u001b[0;36mMaxNLocator.__call__\u001b[0;34m(self)\u001b[0m\n\u001b[1;32m   2079\u001b[0m \u001b[39mdef\u001b[39;00m \u001b[39m__call__\u001b[39m(\u001b[39mself\u001b[39m):\n\u001b[1;32m   2080\u001b[0m     vmin, vmax \u001b[39m=\u001b[39m \u001b[39mself\u001b[39m\u001b[39m.\u001b[39maxis\u001b[39m.\u001b[39mget_view_interval()\n\u001b[0;32m-> 2081\u001b[0m     \u001b[39mreturn\u001b[39;00m \u001b[39mself\u001b[39;49m\u001b[39m.\u001b[39;49mtick_values(vmin, vmax)\n",
      "File \u001b[0;32m/usr/lib/python3/dist-packages/matplotlib/ticker.py:2089\u001b[0m, in \u001b[0;36mMaxNLocator.tick_values\u001b[0;34m(self, vmin, vmax)\u001b[0m\n\u001b[1;32m   2086\u001b[0m     vmin \u001b[39m=\u001b[39m \u001b[39m-\u001b[39mvmax\n\u001b[1;32m   2087\u001b[0m vmin, vmax \u001b[39m=\u001b[39m mtransforms\u001b[39m.\u001b[39mnonsingular(\n\u001b[1;32m   2088\u001b[0m     vmin, vmax, expander\u001b[39m=\u001b[39m\u001b[39m1e-13\u001b[39m, tiny\u001b[39m=\u001b[39m\u001b[39m1e-14\u001b[39m)\n\u001b[0;32m-> 2089\u001b[0m locs \u001b[39m=\u001b[39m \u001b[39mself\u001b[39;49m\u001b[39m.\u001b[39;49m_raw_ticks(vmin, vmax)\n\u001b[1;32m   2091\u001b[0m prune \u001b[39m=\u001b[39m \u001b[39mself\u001b[39m\u001b[39m.\u001b[39m_prune\n\u001b[1;32m   2092\u001b[0m \u001b[39mif\u001b[39;00m prune \u001b[39m==\u001b[39m \u001b[39m'\u001b[39m\u001b[39mlower\u001b[39m\u001b[39m'\u001b[39m:\n",
      "File \u001b[0;32m/usr/lib/python3/dist-packages/matplotlib/ticker.py:2074\u001b[0m, in \u001b[0;36mMaxNLocator._raw_ticks\u001b[0;34m(self, vmin, vmax)\u001b[0m\n\u001b[1;32m   2072\u001b[0m ticks \u001b[39m=\u001b[39m np\u001b[39m.\u001b[39marange(low, high \u001b[39m+\u001b[39m \u001b[39m1\u001b[39m) \u001b[39m*\u001b[39m step \u001b[39m+\u001b[39m best_vmin\n\u001b[1;32m   2073\u001b[0m \u001b[39m# Count only the ticks that will be displayed.\u001b[39;00m\n\u001b[0;32m-> 2074\u001b[0m nticks \u001b[39m=\u001b[39m ((ticks \u001b[39m<\u001b[39;49m\u001b[39m=\u001b[39;49m _vmax) \u001b[39m&\u001b[39;49m (ticks \u001b[39m>\u001b[39;49m\u001b[39m=\u001b[39;49m _vmin))\u001b[39m.\u001b[39;49msum()\n\u001b[1;32m   2075\u001b[0m \u001b[39mif\u001b[39;00m nticks \u001b[39m>\u001b[39m\u001b[39m=\u001b[39m \u001b[39mself\u001b[39m\u001b[39m.\u001b[39m_min_n_ticks:\n\u001b[1;32m   2076\u001b[0m     \u001b[39mbreak\u001b[39;00m\n",
      "File \u001b[0;32m~/.local/lib/python3.8/site-packages/numpy/core/_methods.py:49\u001b[0m, in \u001b[0;36m_sum\u001b[0;34m(a, axis, dtype, out, keepdims, initial, where)\u001b[0m\n\u001b[1;32m     47\u001b[0m \u001b[39mdef\u001b[39;00m \u001b[39m_sum\u001b[39m(a, axis\u001b[39m=\u001b[39m\u001b[39mNone\u001b[39;00m, dtype\u001b[39m=\u001b[39m\u001b[39mNone\u001b[39;00m, out\u001b[39m=\u001b[39m\u001b[39mNone\u001b[39;00m, keepdims\u001b[39m=\u001b[39m\u001b[39mFalse\u001b[39;00m,\n\u001b[1;32m     48\u001b[0m          initial\u001b[39m=\u001b[39m_NoValue, where\u001b[39m=\u001b[39m\u001b[39mTrue\u001b[39;00m):\n\u001b[0;32m---> 49\u001b[0m     \u001b[39mreturn\u001b[39;00m umr_sum(a, axis, dtype, out, keepdims, initial, where)\n",
      "\u001b[0;31mKeyboardInterrupt\u001b[0m: "
     ]
    }
   ],
   "source": [
    "n = 1 \n",
    "while np.linalg.norm(r_pos - goal) > 1.0:\n",
    "    v_desired = v_max\n",
    "    w_desired = goal_heading\n",
    "    v_current = r_vel[0]\n",
    "    w_current = r_vel[1]\n",
    "\n",
    "    transform = np.array([[math.cos(r_heading), math.sin(r_heading)], \n",
    "                         [- math.sin(r_heading), math.cos(r_heading)]])\n",
    "\n",
    "    rel_pos = np.transpose(np.matmul(transform,np.transpose(rel_pos)))\n",
    "    rel_vel = np.transpose(np.matmul(transform,np.transpose(rel_vel)))\n",
    "    \n",
    "    \n",
    "\n",
    "\n",
    "    arguments = (\n",
    "    v_desired,\n",
    "    w_desired,\n",
    "    r_vel,\n",
    "    r_heading,\n",
    "    rel_pos,\n",
    "    rel_vel,\n",
    "    r_rad,\n",
    "    obs_rad,\n",
    "    r_vel,\n",
    "    dt\n",
    ")\n",
    "    cons = ({'type': 'ineq', 'fun': obt_avoidance_constraint , 'args': arguments})\n",
    "\n",
    "    if (np.linalg.norm(rel_pos)<7):\n",
    "        sol = optimize.minimize(cost_fn, np.array([0, 0]), method=\"SLSQP\", constraints = cons, args=arguments)\n",
    "    else:\n",
    "        sol = optimize.minimize(cost_fn, np.array([0, 0]), method=\"SLSQP\", args=arguments\n",
    "                    )\n",
    "    u_sol = sol['x']\n",
    "\n",
    "    transform_back = np.array([[math.cos(r_heading), -math.sin(r_heading)], \n",
    "                         [math.sin(r_heading), math.cos(r_heading)]])\n",
    "\n",
    "    rel_pos = np.transpose(np.matmul(transform_back,np.transpose(rel_pos)))\n",
    "    rel_vel = np.transpose(np.matmul(transform_back,np.transpose(rel_vel)))\n",
    "\n",
    "\n",
    "    r_vel =r_vel + np.array([u_sol[0], u_sol[1]])\n",
    "\n",
    "    if r_vel[0]>v_max:\n",
    "        r_vel[0] = v_max\n",
    "    \n",
    "    if r_vel[1]>w_cap:\n",
    "        r_vel[1] = w_cap\n",
    "    \n",
    "    if r_vel[0]< v_min:\n",
    "        r_vel[0] = v_min\n",
    "    \n",
    "    if r_vel[1] < -w_cap:\n",
    "        r_vel[1] = -w_cap\n",
    "    \n",
    "\n",
    "\n",
    "    r_heading = r_heading + r_vel[1]*dt\n",
    "    r_vel_2d = np.array([r_vel[0]*math.cos(r_heading), r_vel[0]*math.sin(r_heading)])\n",
    "    \n",
    "    r_pos = r_pos + r_vel_2d*dt\n",
    "    obst_pos = obst_pos + obst_vel*dt\n",
    "    rel_pos = obst_pos - r_pos\n",
    "    goal_heading = math.atan2(goal[1]-r_pos[1],goal[0]-r_pos[0])\n",
    "\n",
    "    rel_vel = obst_vel - r_vel_2d\n",
    "    \n",
    "\n",
    "    circle1 = plt.Circle((r_pos[0], r_pos[1]), 0.5, color='r')\n",
    "    circle2 = plt.Circle((obst_pos[0], obst_pos[1]), 0.5, color='r')\n",
    "    goal_plt = plt.Circle((15.0, 15.0), 0.1, color='g')\n",
    "    \n",
    "\n",
    "    \n",
    "    ax = plt.gca()\n",
    "    ax.cla() # clear things for fresh plot\n",
    "\n",
    "    # change default range so that new circles will work\n",
    "    ax.set_xlim((0, 20))\n",
    "    ax.set_ylim((0, 20))\n",
    "\n",
    "    ax.add_patch(circle1)\n",
    "    ax.add_patch(circle2)\n",
    "    ax.add_patch(goal_plt)\n",
    "    ax.arrow(r_pos[0],r_pos[1], math.cos(r_heading),  math.sin(r_heading), head_width = 0.2, width = 0.05)\n",
    "\n",
    "    plt.pause(0.1)\n",
    "    display.clear_output(wait=True)\n",
    "    display.display(plt.gcf())"
   ]
  },
  {
   "cell_type": "code",
   "execution_count": null,
   "metadata": {},
   "outputs": [
    {
     "data": {
      "text/plain": [
       "6.663424137082977"
      ]
     },
     "execution_count": 297,
     "metadata": {},
     "output_type": "execute_result"
    }
   ],
   "source": [
    "p = rel_pos.reshape(-1,1) + np.array([np.random.normal(mu_x, std_x, n_samples), np.random.normal(mu_y, std_y, n_samples) ])\n",
    "\n",
    "p[0][0]"
   ]
  }
 ],
 "metadata": {
  "kernelspec": {
   "display_name": "Python 3",
   "language": "python",
   "name": "python3"
  },
  "language_info": {
   "codemirror_mode": {
    "name": "ipython",
    "version": 3
   },
   "file_extension": ".py",
   "mimetype": "text/x-python",
   "name": "python",
   "nbconvert_exporter": "python",
   "pygments_lexer": "ipython3",
   "version": "3.8.10"
  },
  "orig_nbformat": 4,
  "vscode": {
   "interpreter": {
    "hash": "31f2aee4e71d21fbe5cf8b01ff0e069b9275f58929596ceb00d14d90e3e16cd6"
   }
  }
 },
 "nbformat": 4,
 "nbformat_minor": 2
}
