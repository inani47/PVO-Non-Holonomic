{
 "cells": [
  {
   "attachments": {},
   "cell_type": "markdown",
   "metadata": {},
   "source": [
    "Imports"
   ]
  },
  {
   "cell_type": "code",
   "execution_count": 261,
   "metadata": {},
   "outputs": [],
   "source": [
    "import numpy as np\n",
    "import matplotlib.pyplot as plt\n",
    "from scipy import optimize\n",
    "import math\n",
    "from IPython import display"
   ]
  },
  {
   "attachments": {},
   "cell_type": "markdown",
   "metadata": {},
   "source": [
    "Experiment Set up"
   ]
  },
  {
   "cell_type": "code",
   "execution_count": 262,
   "metadata": {},
   "outputs": [
    {
     "name": "stdout",
     "output_type": "stream",
     "text": [
      "0.7853981633974483\n",
      "<class 'numpy.ndarray'>\n"
     ]
    }
   ],
   "source": [
    "r_rad = 0.5\n",
    "obs_rad = 0.5\n",
    "r_pos = np.array([1.0,1.0])\n",
    "r_vel = np.array([0.0,0.0]) #v,omega\n",
    "r_heading = 0.0\n",
    "linear_vel = np.array([r_vel[0]*math.cos(r_heading), r_vel[0]*math.sin(r_heading)])\n",
    "goal = np.array([15.0,15.0])\n",
    "obst_pos = np.array([7.5,7.5])\n",
    "obst_vel = np.array([-1.0, -1.0])\n",
    "dt = 0.1\n",
    "v_max=  1.0\n",
    "v_min = 0.2\n",
    "w_cap = 0.5\n",
    "\n",
    "goal_heading = math.atan2(goal[1]-r_pos[1],goal[0]-r_pos[0])\n",
    "\n",
    "print(goal_heading)\n",
    "rel_pos = obst_pos - r_pos\n",
    "rel_vel = obst_vel - linear_vel\n",
    "print(type(rel_vel))"
   ]
  },
  {
   "attachments": {},
   "cell_type": "markdown",
   "metadata": {},
   "source": [
    "Taylor Approximation of Velocity Obstacle Constraint"
   ]
  },
  {
   "cell_type": "code",
   "execution_count": 263,
   "metadata": {},
   "outputs": [],
   "source": [
    "def taylor_approx(v,w,dt,a,r1,r2,r,R,head):\n",
    "    t0=(v**2)*(r1*math.cos(head + a*dt) +r2*math.sin(head + a*dt))**2 + (v**2)*((r+R)**2 - (r1**2 + r2**2) )\n",
    "    d = 2*(v**2)*(dt)*(r1*math.cos((head + a*dt)) + r2*math.sin(head + a*dt))*(-r1*math.sin(head + a*dt) + r2*math.cos(head + a*dt))*(w-a)\n",
    "    return -(t0 + d)"
   ]
  },
  {
   "attachments": {},
   "cell_type": "markdown",
   "metadata": {},
   "source": [
    "Cost Function"
   ]
  },
  {
   "cell_type": "code",
   "execution_count": 264,
   "metadata": {},
   "outputs": [],
   "source": [
    "def cost_fn(u, v_des, heading_des, v_cur, heading_cur, current_rel_p,current_rel_v,agent_r, obs_r,agent_v,dt ):\n",
    "    # Store the list of function calls\n",
    "    return (v_des - (v_cur[0] + u[0]))**2 + (heading_des - (heading_cur + (v_cur[1] + u[1])*dt)) **2"
   ]
  },
  {
   "attachments": {},
   "cell_type": "markdown",
   "metadata": {},
   "source": [
    "Constraints"
   ]
  },
  {
   "cell_type": "code",
   "execution_count": 265,
   "metadata": {},
   "outputs": [],
   "source": [
    "def obt_avoidance_constraint(u, v_des, heading_des, v_cur, heading_cur, current_rel_p,current_rel_v,agent_r, obs_r,agent_v,dt):\n",
    "    v0=(agent_v[0])*np.array([math.cos(0), math.sin(0)])\n",
    "    v1=(agent_v[0] + u[0]) *np.array([math.cos((agent_v[1] + u[1])*dt), math.sin((agent_v[1] + u[1])*dt)])\n",
    "    fut_rel_v =current_rel_v + v0 -v1 \n",
    "    linear_vel = np.linalg.norm(current_rel_v)\n",
    "    new_head = math.atan2(fut_rel_v[1],fut_rel_v[0])\n",
    "    a = math.atan2(current_rel_v[1],current_rel_v[0])\n",
    "\n",
    "    if (a>3 and new_head<0):\n",
    "        new_head =new_head +2*math.pi \n",
    "    elif(a<(-3) and new_head>0 ) :\n",
    "        new_head = new_head-2*math.pi\n",
    "    ang_vel = (new_head-a)/dt\n",
    "    r = current_rel_p\n",
    "    return taylor_approx(linear_vel,ang_vel,dt,0,r[0],r[1],obs_r,agent_r,a)\n",
    "    \n",
    "    "
   ]
  },
  {
   "attachments": {},
   "cell_type": "markdown",
   "metadata": {},
   "source": [
    "Update"
   ]
  },
  {
   "cell_type": "code",
   "execution_count": 266,
   "metadata": {},
   "outputs": [
    {
     "ename": "IndexError",
     "evalue": "index 2 is out of bounds for axis 0 with size 2",
     "output_type": "error",
     "traceback": [
      "\u001b[0;31m---------------------------------------------------------------------------\u001b[0m",
      "\u001b[0;31mIndexError\u001b[0m                                Traceback (most recent call last)",
      "Cell \u001b[0;32mIn [266], line 46\u001b[0m\n\u001b[1;32m     43\u001b[0m \u001b[39mif\u001b[39;00m r_vel[\u001b[39m1\u001b[39m]\u001b[39m>\u001b[39mv_max:\n\u001b[1;32m     44\u001b[0m     r_vel[\u001b[39m1\u001b[39m] \u001b[39m=\u001b[39m v_max\n\u001b[0;32m---> 46\u001b[0m \u001b[39mif\u001b[39;00m r_vel[\u001b[39m2\u001b[39;49m]\u001b[39m>\u001b[39mw_cap:\n\u001b[1;32m     47\u001b[0m     r_vel[\u001b[39m2\u001b[39m] \u001b[39m=\u001b[39m w_cap\n\u001b[1;32m     49\u001b[0m \u001b[39mif\u001b[39;00m r_vel[\u001b[39m1\u001b[39m]\u001b[39m<\u001b[39m v_min:\n",
      "\u001b[0;31mIndexError\u001b[0m: index 2 is out of bounds for axis 0 with size 2"
     ]
    }
   ],
   "source": [
    "n = 1 \n",
    "while np.linalg.norm(r_pos - goal) > 1.0:\n",
    "    v_desired = v_max\n",
    "    w_desired = goal_heading\n",
    "    v_current = r_vel[0]\n",
    "    w_current = r_vel[1]\n",
    "\n",
    "    transform = np.array([[math.cos(r_heading), math.sin(r_heading)], \n",
    "                         [- math.sin(r_heading), math.cos(r_heading)]])\n",
    "\n",
    "    rel_pos = np.transpose(np.matmul(transform,np.transpose(rel_pos)))\n",
    "    rel_vel = np.transpose(np.matmul(transform,np.transpose(rel_vel)))\n",
    "    \n",
    "\n",
    "\n",
    "    arguments = (\n",
    "    v_desired,\n",
    "    w_desired,\n",
    "    r_vel,\n",
    "    r_heading,\n",
    "    rel_pos,\n",
    "    rel_vel,\n",
    "    r_rad,\n",
    "    obs_rad,\n",
    "    r_vel,\n",
    "    dt\n",
    ")\n",
    "    cons = ({'type': 'ineq', 'fun': obt_avoidance_constraint , 'args': arguments})\n",
    "\n",
    "    sol = optimize.minimize(cost_fn, np.array([0, 0]), method=\"SLSQP\", constraints = cons, args=arguments\n",
    "                    )\n",
    "    u_sol = sol['x']\n",
    "\n",
    "    transform_back = np.array([[math.cos(r_heading), -math.sin(r_heading)], \n",
    "                         [math.sin(r_heading), math.cos(r_heading)]])\n",
    "\n",
    "    rel_pos = np.transpose(np.matmul(transform_back,np.transpose(rel_pos)))\n",
    "    rel_vel = np.transpose(np.matmul(transform_back,np.transpose(rel_vel)))\n",
    "\n",
    "\n",
    "    r_vel =r_vel + np.array([u_sol[0], u_sol[1]])\n",
    "\n",
    "    if r_vel[0]>v_max:\n",
    "        r_vel[0] = v_max\n",
    "    \n",
    "    if r_vel[1]>w_cap:\n",
    "        r_vel[1] = w_cap\n",
    "    \n",
    "    if r_vel[0]< v_min:\n",
    "        r_vel[0] = v_min\n",
    "    \n",
    "    if r_vel[1] < -w_cap:\n",
    "        r_vel[1] = -w_cap\n",
    "    \n",
    "\n",
    "\n",
    "    r_heading = r_heading + r_vel[1]*dt\n",
    "    r_vel_2d = np.array([r_vel[0]*math.cos(r_heading), r_vel[0]*math.sin(r_heading)])\n",
    "    \n",
    "    r_pos = r_pos + r_vel_2d*dt\n",
    "    obst_pos = obst_pos + obst_vel*dt\n",
    "    rel_pos = obst_pos - r_pos\n",
    "    goal_heading = math.atan2(goal[1]-r_pos[1],goal[0]-r_pos[0])\n",
    "\n",
    "    rel_vel = obst_vel - r_vel_2d\n",
    "    \n",
    "\n",
    "    circle1 = plt.Circle((r_pos[0], r_pos[1]), 0.5, color='r')\n",
    "    circle2 = plt.Circle((obst_pos[0], obst_pos[1]), 0.5, color='r')\n",
    "    goal_plt = plt.Circle((15.0, 15.0), 0.1, color='g')\n",
    "    \n",
    "\n",
    "    \n",
    "    ax = plt.gca()\n",
    "    ax.cla() # clear things for fresh plot\n",
    "\n",
    "    # change default range so that new circles will work\n",
    "    ax.set_xlim((0, 20))\n",
    "    ax.set_ylim((0, 20))\n",
    "\n",
    "    ax.add_patch(circle1)\n",
    "    ax.add_patch(circle2)\n",
    "    ax.add_patch(goal_plt)\n",
    "    ax.arrow(r_pos[0],r_pos[1], math.cos(r_heading),  math.sin(r_heading), head_width = 0.2, width = 0.05)\n",
    "\n",
    "    plt.pause(0.1)\n",
    "    display.clear_output(wait=True)\n",
    "    display.display(plt.gcf())"
   ]
  }
 ],
 "metadata": {
  "kernelspec": {
   "display_name": "Python 3",
   "language": "python",
   "name": "python3"
  },
  "language_info": {
   "codemirror_mode": {
    "name": "ipython",
    "version": 3
   },
   "file_extension": ".py",
   "mimetype": "text/x-python",
   "name": "python",
   "nbconvert_exporter": "python",
   "pygments_lexer": "ipython3",
   "version": "3.8.10"
  },
  "orig_nbformat": 4,
  "vscode": {
   "interpreter": {
    "hash": "31f2aee4e71d21fbe5cf8b01ff0e069b9275f58929596ceb00d14d90e3e16cd6"
   }
  }
 },
 "nbformat": 4,
 "nbformat_minor": 2
}
