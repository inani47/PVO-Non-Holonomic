{
 "cells": [
  {
   "attachments": {},
   "cell_type": "markdown",
   "metadata": {},
   "source": [
    "Imports"
   ]
  },
  {
   "cell_type": "code",
   "execution_count": 145,
   "metadata": {},
   "outputs": [],
   "source": [
    "import numpy as np\n",
    "import matplotlib.pyplot as plt\n",
    "from scipy import optimize\n",
    "import math\n",
    "from IPython import display"
   ]
  },
  {
   "attachments": {},
   "cell_type": "markdown",
   "metadata": {},
   "source": [
    "Experiment Set up"
   ]
  },
  {
   "cell_type": "code",
   "execution_count": 146,
   "metadata": {},
   "outputs": [
    {
     "name": "stdout",
     "output_type": "stream",
     "text": [
      "0.7853981633974483\n",
      "<class 'numpy.ndarray'>\n"
     ]
    }
   ],
   "source": [
    "r_rad = 0.7\n",
    "obs_rad = 0.5\n",
    "r_pos = np.array([4.0,4.0])\n",
    "r_vel = np.array([0.5,math.pi/4]) #v,omega\n",
    "r_heading = 0.0\n",
    "linear_vel = np.array([r_vel[0]*math.cos(r_heading), r_vel[0]*math.sin(r_heading)])\n",
    "goal = np.array([15.0,15.0])\n",
    "obst_pos = np.array([7.5,7.5])\n",
    "obst_vel = np.array([-1.0, -1.0])\n",
    "dt = 0.1\n",
    "v_max=  1.0\n",
    "v_min = 0.2\n",
    "w_cap = 0.5\n",
    "\n",
    "goal_heading = math.atan2(goal[1]-r_pos[1],goal[0]-r_pos[0])\n",
    "\n",
    "print(goal_heading)\n",
    "rel_pos = obst_pos - r_pos\n",
    "rel_vel = obst_vel - linear_vel\n",
    "print(type(rel_vel))\n",
    "\n",
    "mu_x = 0\n",
    "std_x = 0.15\n",
    "\n",
    "mu_y = 0\n",
    "std_y = 0.15\n",
    "\n",
    "n_samples = 10"
   ]
  },
  {
   "attachments": {},
   "cell_type": "markdown",
   "metadata": {},
   "source": [
    "Taylor Approximation of Velocity Obstacle Constraint"
   ]
  },
  {
   "cell_type": "code",
   "execution_count": 147,
   "metadata": {},
   "outputs": [],
   "source": [
    "def taylor_approx(v,w,dt,a,r1,r2,r,R,head):\n",
    "    t0=(v**2)*(r1*math.cos(head + a*dt) +r2*math.sin(head + a*dt))**2 + (v**2)*((r+R)**2 - (r1**2 + r2**2) )\n",
    "    d = 2*(v**2)*(dt)*(r1*math.cos((head + a*dt)) + r2*math.sin(head + a*dt))*(-r1*math.sin(head + a*dt) + r2*math.cos(head + a*dt))*(w-a)\n",
    "    return (t0 + d)"
   ]
  },
  {
   "attachments": {},
   "cell_type": "markdown",
   "metadata": {},
   "source": [
    "Cost Function"
   ]
  },
  {
   "cell_type": "code",
   "execution_count": 148,
   "metadata": {},
   "outputs": [],
   "source": [
    "def cost_fn(u, v_des, heading_des, v_cur, heading_cur, current_rel_p,current_rel_v,agent_r, obs_r,agent_v,dt ):\n",
    "    # Store the list of function calls\n",
    "    return (v_des - (v_cur[0] + u[0]))**2 + (heading_des - (heading_cur + (v_cur[1] + u[1])*dt)) **2"
   ]
  },
  {
   "attachments": {},
   "cell_type": "markdown",
   "metadata": {},
   "source": [
    "Constraints"
   ]
  },
  {
   "cell_type": "code",
   "execution_count": 149,
   "metadata": {},
   "outputs": [],
   "source": [
    "def obt_avoidance_constraint(u, v_des, heading_des, v_cur, heading_cur, current_rel_p,current_rel_v,agent_r, obs_r,agent_v,dt):\n",
    "    mu_x = 0\n",
    "    std_x = 0.05\n",
    "\n",
    "    mu_y = 0\n",
    "    std_y = 0.05\n",
    "    n_samples = 5\n",
    "    \n",
    "    # print(current_rel_p.reshape(-1,1))\n",
    "    # print(np.transpose(np.array([[0.1 , 0.1 ]])) )\n",
    "    # print(np.transpose(np.array([[0.1 , 0.1],\n",
    "    #                                                     [-0.1 , -0.1 ],\n",
    "    #                                                     [0.01 , 0.03 ],\n",
    "    #                                                     [0.09 , 0.05 ],\n",
    "    #                                                     [-0.05 , 0.07 ],])))\n",
    "    # print()\n",
    "    # print((np.array([np.random.normal(mu_x, std_x, n_samples), *np.random.normal(mu_y, std_y) ])))\n",
    "    noisy_rel_p = current_rel_p.reshape(-1,1) + (np.array([np.random.normal(mu_x, std_x, n_samples), np.random.normal(mu_y, std_y,n_samples) ]))\n",
    "    \n",
    "    \n",
    "    # np.transpose(np.array([[1*np.random.normal(mu_x, std_x) , 1*np.random.normal(mu_y, std_y)],\n",
    "    #                                                     [1*np.random.normal(mu_x, std_x) , 1*np.random.normal(mu_y, std_y)],\n",
    "    #                                                     [1*np.random.normal(mu_x, std_x), 1*np.random.normal(mu_y, std_y) ],\n",
    "    #                                                     [1*np.random.normal(mu_x, std_x) , 1*np.random.normal(mu_y, std_y) ],\n",
    "    #                                                     [1*np.random.normal(mu_x, std_x) , 1*np.random.normal(mu_y, std_y) ]])) #+ np.array([np.random.normal(mu_x, std_x, n_samples), np.random.normal(mu_y, std_y, n_samples) ])\n",
    "    # print(\"noisy_rel_p: {0}\".format(noisy_rel_p))\n",
    "    v0=(agent_v[0])*np.array([math.cos(0), math.sin(0)])\n",
    "    v1=(agent_v[0] + u[0]) *np.array([math.cos((agent_v[1] + u[1])*dt), math.sin((agent_v[1] + u[1])*dt)])\n",
    "    fut_rel_v = (current_rel_v + v0 -v1)\n",
    "    linear_vel = np.linalg.norm(fut_rel_v) #math.sqrt(noisy_rel_p[:][0]**2 + noisy_rel_p[:][1]**2) \n",
    "    new_head = math.atan2(fut_rel_v[1],fut_rel_v[0])\n",
    "    a = math.atan2(current_rel_v[1],current_rel_v[0])\n",
    "\n",
    "    if (a>3 and new_head<0):\n",
    "        new_head =new_head +2*math.pi \n",
    "    elif(a<(-3) and new_head>0 ) :\n",
    "        new_head = new_head-2*math.pi\n",
    "    ang_vel = (new_head-a)/dt\n",
    "    r = noisy_rel_p\n",
    "    # print(r.shape)\n",
    "    # print(current_rel_p)\n",
    "    # print(r)\n",
    "    # print(\"first row: {}\".format(r[0][:]))\n",
    "    # t_old = taylor_approx(linear_vel,ang_vel,dt,0,current_rel_p[0],current_rel_p[1],obs_r,agent_r,a)\n",
    "    t = taylor_approx(linear_vel,ang_vel,dt,0,r[0][:],r[1][:],obs_r,agent_r,a)\n",
    "    # print(t.shape)\n",
    "    # print(\"t_old: {0}\".format(t_old))\n",
    "    # print(\"t\")\n",
    "    # print(t)\n",
    "    # wait = input(\"Press Enter to continue.\")\n",
    "    s= np.std(t)\n",
    "    \n",
    "    m = np.mean(t)\n",
    "    \n",
    "    return -(np.mean(t) + 2*np.std(t))\n",
    "    \n",
    "    "
   ]
  },
  {
   "attachments": {},
   "cell_type": "markdown",
   "metadata": {},
   "source": [
    "Update"
   ]
  },
  {
   "cell_type": "code",
   "execution_count": 150,
   "metadata": {},
   "outputs": [
    {
     "data": {
      "text/plain": [
       "<Figure size 640x480 with 0 Axes>"
      ]
     },
     "metadata": {},
     "output_type": "display_data"
    },
    {
     "name": "stdout",
     "output_type": "stream",
     "text": [
      "[7.30156814e-07 6.11310718e-02]\n"
     ]
    },
    {
     "ename": "KeyboardInterrupt",
     "evalue": "",
     "output_type": "error",
     "traceback": [
      "\u001b[0;31m---------------------------------------------------------------------------\u001b[0m",
      "\u001b[0;31mKeyboardInterrupt\u001b[0m                         Traceback (most recent call last)",
      "Cell \u001b[0;32mIn [150], line 91\u001b[0m\n\u001b[1;32m     87\u001b[0m ax\u001b[39m.\u001b[39madd_patch(goal_plt)\n\u001b[1;32m     88\u001b[0m ax\u001b[39m.\u001b[39marrow(r_pos[\u001b[39m0\u001b[39m],r_pos[\u001b[39m1\u001b[39m], math\u001b[39m.\u001b[39mcos(r_heading),  math\u001b[39m.\u001b[39msin(r_heading), head_width \u001b[39m=\u001b[39m \u001b[39m0.2\u001b[39m, width \u001b[39m=\u001b[39m \u001b[39m0.05\u001b[39m)\n\u001b[0;32m---> 91\u001b[0m plt\u001b[39m.\u001b[39;49mpause(\u001b[39m0.1\u001b[39;49m)\n\u001b[1;32m     92\u001b[0m display\u001b[39m.\u001b[39mclear_output(wait\u001b[39m=\u001b[39m\u001b[39mTrue\u001b[39;00m)\n\u001b[1;32m     93\u001b[0m display\u001b[39m.\u001b[39mdisplay(plt\u001b[39m.\u001b[39mgcf())\n",
      "File \u001b[0;32m/usr/lib/python3/dist-packages/matplotlib/pyplot.py:309\u001b[0m, in \u001b[0;36mpause\u001b[0;34m(interval)\u001b[0m\n\u001b[1;32m    307\u001b[0m     \u001b[39mif\u001b[39;00m canvas\u001b[39m.\u001b[39mfigure\u001b[39m.\u001b[39mstale:\n\u001b[1;32m    308\u001b[0m         canvas\u001b[39m.\u001b[39mdraw_idle()\n\u001b[0;32m--> 309\u001b[0m     show(block\u001b[39m=\u001b[39;49m\u001b[39mFalse\u001b[39;49;00m)\n\u001b[1;32m    310\u001b[0m     canvas\u001b[39m.\u001b[39mstart_event_loop(interval)\n\u001b[1;32m    311\u001b[0m \u001b[39melse\u001b[39;00m:\n",
      "File \u001b[0;32m/usr/lib/python3/dist-packages/matplotlib/pyplot.py:269\u001b[0m, in \u001b[0;36mshow\u001b[0;34m(*args, **kw)\u001b[0m\n\u001b[1;32m    252\u001b[0m \u001b[39m\"\"\"\u001b[39;00m\n\u001b[1;32m    253\u001b[0m \u001b[39mDisplay a figure.\u001b[39;00m\n\u001b[1;32m    254\u001b[0m \n\u001b[0;32m   (...)\u001b[0m\n\u001b[1;32m    266\u001b[0m \u001b[39mdescribed above.\u001b[39;00m\n\u001b[1;32m    267\u001b[0m \u001b[39m\"\"\"\u001b[39;00m\n\u001b[1;32m    268\u001b[0m \u001b[39mglobal\u001b[39;00m _show\n\u001b[0;32m--> 269\u001b[0m \u001b[39mreturn\u001b[39;00m _show(\u001b[39m*\u001b[39;49margs, \u001b[39m*\u001b[39;49m\u001b[39m*\u001b[39;49mkw)\n",
      "File \u001b[0;32m~/.local/lib/python3.8/site-packages/matplotlib_inline/backend_inline.py:90\u001b[0m, in \u001b[0;36mshow\u001b[0;34m(close, block)\u001b[0m\n\u001b[1;32m     88\u001b[0m \u001b[39mtry\u001b[39;00m:\n\u001b[1;32m     89\u001b[0m     \u001b[39mfor\u001b[39;00m figure_manager \u001b[39min\u001b[39;00m Gcf\u001b[39m.\u001b[39mget_all_fig_managers():\n\u001b[0;32m---> 90\u001b[0m         display(\n\u001b[1;32m     91\u001b[0m             figure_manager\u001b[39m.\u001b[39;49mcanvas\u001b[39m.\u001b[39;49mfigure,\n\u001b[1;32m     92\u001b[0m             metadata\u001b[39m=\u001b[39;49m_fetch_figure_metadata(figure_manager\u001b[39m.\u001b[39;49mcanvas\u001b[39m.\u001b[39;49mfigure)\n\u001b[1;32m     93\u001b[0m         )\n\u001b[1;32m     94\u001b[0m \u001b[39mfinally\u001b[39;00m:\n\u001b[1;32m     95\u001b[0m     show\u001b[39m.\u001b[39m_to_draw \u001b[39m=\u001b[39m []\n",
      "File \u001b[0;32m~/.local/lib/python3.8/site-packages/IPython/core/display_functions.py:298\u001b[0m, in \u001b[0;36mdisplay\u001b[0;34m(include, exclude, metadata, transient, display_id, raw, clear, *objs, **kwargs)\u001b[0m\n\u001b[1;32m    296\u001b[0m     publish_display_data(data\u001b[39m=\u001b[39mobj, metadata\u001b[39m=\u001b[39mmetadata, \u001b[39m*\u001b[39m\u001b[39m*\u001b[39mkwargs)\n\u001b[1;32m    297\u001b[0m \u001b[39melse\u001b[39;00m:\n\u001b[0;32m--> 298\u001b[0m     format_dict, md_dict \u001b[39m=\u001b[39m \u001b[39mformat\u001b[39;49m(obj, include\u001b[39m=\u001b[39;49minclude, exclude\u001b[39m=\u001b[39;49mexclude)\n\u001b[1;32m    299\u001b[0m     \u001b[39mif\u001b[39;00m \u001b[39mnot\u001b[39;00m format_dict:\n\u001b[1;32m    300\u001b[0m         \u001b[39m# nothing to display (e.g. _ipython_display_ took over)\u001b[39;00m\n\u001b[1;32m    301\u001b[0m         \u001b[39mcontinue\u001b[39;00m\n",
      "File \u001b[0;32m~/.local/lib/python3.8/site-packages/IPython/core/formatters.py:178\u001b[0m, in \u001b[0;36mDisplayFormatter.format\u001b[0;34m(self, obj, include, exclude)\u001b[0m\n\u001b[1;32m    176\u001b[0m md \u001b[39m=\u001b[39m \u001b[39mNone\u001b[39;00m\n\u001b[1;32m    177\u001b[0m \u001b[39mtry\u001b[39;00m:\n\u001b[0;32m--> 178\u001b[0m     data \u001b[39m=\u001b[39m formatter(obj)\n\u001b[1;32m    179\u001b[0m \u001b[39mexcept\u001b[39;00m:\n\u001b[1;32m    180\u001b[0m     \u001b[39m# FIXME: log the exception\u001b[39;00m\n\u001b[1;32m    181\u001b[0m     \u001b[39mraise\u001b[39;00m\n",
      "File \u001b[0;32m~/.local/lib/python3.8/site-packages/decorator.py:232\u001b[0m, in \u001b[0;36mdecorate.<locals>.fun\u001b[0;34m(*args, **kw)\u001b[0m\n\u001b[1;32m    230\u001b[0m \u001b[39mif\u001b[39;00m \u001b[39mnot\u001b[39;00m kwsyntax:\n\u001b[1;32m    231\u001b[0m     args, kw \u001b[39m=\u001b[39m fix(args, kw, sig)\n\u001b[0;32m--> 232\u001b[0m \u001b[39mreturn\u001b[39;00m caller(func, \u001b[39m*\u001b[39;49m(extras \u001b[39m+\u001b[39;49m args), \u001b[39m*\u001b[39;49m\u001b[39m*\u001b[39;49mkw)\n",
      "File \u001b[0;32m~/.local/lib/python3.8/site-packages/IPython/core/formatters.py:222\u001b[0m, in \u001b[0;36mcatch_format_error\u001b[0;34m(method, self, *args, **kwargs)\u001b[0m\n\u001b[1;32m    220\u001b[0m \u001b[39m\"\"\"show traceback on failed format call\"\"\"\u001b[39;00m\n\u001b[1;32m    221\u001b[0m \u001b[39mtry\u001b[39;00m:\n\u001b[0;32m--> 222\u001b[0m     r \u001b[39m=\u001b[39m method(\u001b[39mself\u001b[39;49m, \u001b[39m*\u001b[39;49margs, \u001b[39m*\u001b[39;49m\u001b[39m*\u001b[39;49mkwargs)\n\u001b[1;32m    223\u001b[0m \u001b[39mexcept\u001b[39;00m \u001b[39mNotImplementedError\u001b[39;00m:\n\u001b[1;32m    224\u001b[0m     \u001b[39m# don't warn on NotImplementedErrors\u001b[39;00m\n\u001b[1;32m    225\u001b[0m     \u001b[39mreturn\u001b[39;00m \u001b[39mself\u001b[39m\u001b[39m.\u001b[39m_check_return(\u001b[39mNone\u001b[39;00m, args[\u001b[39m0\u001b[39m])\n",
      "File \u001b[0;32m~/.local/lib/python3.8/site-packages/IPython/core/formatters.py:339\u001b[0m, in \u001b[0;36mBaseFormatter.__call__\u001b[0;34m(self, obj)\u001b[0m\n\u001b[1;32m    337\u001b[0m     \u001b[39mpass\u001b[39;00m\n\u001b[1;32m    338\u001b[0m \u001b[39melse\u001b[39;00m:\n\u001b[0;32m--> 339\u001b[0m     \u001b[39mreturn\u001b[39;00m printer(obj)\n\u001b[1;32m    340\u001b[0m \u001b[39m# Finally look for special method names\u001b[39;00m\n\u001b[1;32m    341\u001b[0m method \u001b[39m=\u001b[39m get_real_method(obj, \u001b[39mself\u001b[39m\u001b[39m.\u001b[39mprint_method)\n",
      "File \u001b[0;32m~/.local/lib/python3.8/site-packages/IPython/core/pylabtools.py:151\u001b[0m, in \u001b[0;36mprint_figure\u001b[0;34m(fig, fmt, bbox_inches, base64, **kwargs)\u001b[0m\n\u001b[1;32m    148\u001b[0m     \u001b[39mfrom\u001b[39;00m \u001b[39mmatplotlib\u001b[39;00m\u001b[39m.\u001b[39;00m\u001b[39mbackend_bases\u001b[39;00m \u001b[39mimport\u001b[39;00m FigureCanvasBase\n\u001b[1;32m    149\u001b[0m     FigureCanvasBase(fig)\n\u001b[0;32m--> 151\u001b[0m fig\u001b[39m.\u001b[39;49mcanvas\u001b[39m.\u001b[39;49mprint_figure(bytes_io, \u001b[39m*\u001b[39;49m\u001b[39m*\u001b[39;49mkw)\n\u001b[1;32m    152\u001b[0m data \u001b[39m=\u001b[39m bytes_io\u001b[39m.\u001b[39mgetvalue()\n\u001b[1;32m    153\u001b[0m \u001b[39mif\u001b[39;00m fmt \u001b[39m==\u001b[39m \u001b[39m'\u001b[39m\u001b[39msvg\u001b[39m\u001b[39m'\u001b[39m:\n",
      "File \u001b[0;32m/usr/lib/python3/dist-packages/matplotlib/backend_bases.py:2056\u001b[0m, in \u001b[0;36mFigureCanvasBase.print_figure\u001b[0;34m(self, filename, dpi, facecolor, edgecolor, orientation, format, bbox_inches, **kwargs)\u001b[0m\n\u001b[1;32m   2050\u001b[0m \u001b[39mif\u001b[39;00m bbox_inches:\n\u001b[1;32m   2051\u001b[0m     \u001b[39m# call adjust_bbox to save only the given area\u001b[39;00m\n\u001b[1;32m   2052\u001b[0m     \u001b[39mif\u001b[39;00m bbox_inches \u001b[39m==\u001b[39m \u001b[39m\"\u001b[39m\u001b[39mtight\u001b[39m\u001b[39m\"\u001b[39m:\n\u001b[1;32m   2053\u001b[0m         \u001b[39m# When bbox_inches == \"tight\", it saves the figure twice.\u001b[39;00m\n\u001b[1;32m   2054\u001b[0m         \u001b[39m# The first save command (to a BytesIO) is just to estimate\u001b[39;00m\n\u001b[1;32m   2055\u001b[0m         \u001b[39m# the bounding box of the figure.\u001b[39;00m\n\u001b[0;32m-> 2056\u001b[0m         result \u001b[39m=\u001b[39m print_method(\n\u001b[1;32m   2057\u001b[0m             io\u001b[39m.\u001b[39;49mBytesIO(),\n\u001b[1;32m   2058\u001b[0m             dpi\u001b[39m=\u001b[39;49mdpi,\n\u001b[1;32m   2059\u001b[0m             facecolor\u001b[39m=\u001b[39;49mfacecolor,\n\u001b[1;32m   2060\u001b[0m             edgecolor\u001b[39m=\u001b[39;49medgecolor,\n\u001b[1;32m   2061\u001b[0m             orientation\u001b[39m=\u001b[39;49morientation,\n\u001b[1;32m   2062\u001b[0m             dryrun\u001b[39m=\u001b[39;49m\u001b[39mTrue\u001b[39;49;00m,\n\u001b[1;32m   2063\u001b[0m             \u001b[39m*\u001b[39;49m\u001b[39m*\u001b[39;49mkwargs)\n\u001b[1;32m   2064\u001b[0m         renderer \u001b[39m=\u001b[39m \u001b[39mself\u001b[39m\u001b[39m.\u001b[39mfigure\u001b[39m.\u001b[39m_cachedRenderer\n\u001b[1;32m   2065\u001b[0m         bbox_artists \u001b[39m=\u001b[39m kwargs\u001b[39m.\u001b[39mpop(\u001b[39m\"\u001b[39m\u001b[39mbbox_extra_artists\u001b[39m\u001b[39m\"\u001b[39m, \u001b[39mNone\u001b[39;00m)\n",
      "File \u001b[0;32m/usr/lib/python3/dist-packages/matplotlib/backends/backend_agg.py:527\u001b[0m, in \u001b[0;36mFigureCanvasAgg.print_png\u001b[0;34m(self, filename_or_obj, metadata, pil_kwargs, *args, **kwargs)\u001b[0m\n\u001b[1;32m    523\u001b[0m     (Image\u001b[39m.\u001b[39mfrombuffer(\u001b[39m\"\u001b[39m\u001b[39mRGBA\u001b[39m\u001b[39m\"\u001b[39m, size, buf, \u001b[39m\"\u001b[39m\u001b[39mraw\u001b[39m\u001b[39m\"\u001b[39m, \u001b[39m\"\u001b[39m\u001b[39mRGBA\u001b[39m\u001b[39m\"\u001b[39m, \u001b[39m0\u001b[39m, \u001b[39m1\u001b[39m)\n\u001b[1;32m    524\u001b[0m      \u001b[39m.\u001b[39msave(filename_or_obj, \u001b[39mformat\u001b[39m\u001b[39m=\u001b[39m\u001b[39m\"\u001b[39m\u001b[39mpng\u001b[39m\u001b[39m\"\u001b[39m, \u001b[39m*\u001b[39m\u001b[39m*\u001b[39mpil_kwargs))\n\u001b[1;32m    526\u001b[0m \u001b[39melse\u001b[39;00m:\n\u001b[0;32m--> 527\u001b[0m     FigureCanvasAgg\u001b[39m.\u001b[39;49mdraw(\u001b[39mself\u001b[39;49m)\n\u001b[1;32m    528\u001b[0m     renderer \u001b[39m=\u001b[39m \u001b[39mself\u001b[39m\u001b[39m.\u001b[39mget_renderer()\n\u001b[1;32m    529\u001b[0m     \u001b[39mwith\u001b[39;00m cbook\u001b[39m.\u001b[39m_setattr_cm(renderer, dpi\u001b[39m=\u001b[39m\u001b[39mself\u001b[39m\u001b[39m.\u001b[39mfigure\u001b[39m.\u001b[39mdpi), \\\n\u001b[1;32m    530\u001b[0m             cbook\u001b[39m.\u001b[39mopen_file_cm(filename_or_obj, \u001b[39m\"\u001b[39m\u001b[39mwb\u001b[39m\u001b[39m\"\u001b[39m) \u001b[39mas\u001b[39;00m fh:\n",
      "File \u001b[0;32m/usr/lib/python3/dist-packages/matplotlib/backends/backend_agg.py:388\u001b[0m, in \u001b[0;36mFigureCanvasAgg.draw\u001b[0;34m(self)\u001b[0m\n\u001b[1;32m    386\u001b[0m \u001b[39mself\u001b[39m\u001b[39m.\u001b[39mrenderer \u001b[39m=\u001b[39m \u001b[39mself\u001b[39m\u001b[39m.\u001b[39mget_renderer(cleared\u001b[39m=\u001b[39m\u001b[39mTrue\u001b[39;00m)\n\u001b[1;32m    387\u001b[0m \u001b[39mwith\u001b[39;00m RendererAgg\u001b[39m.\u001b[39mlock:\n\u001b[0;32m--> 388\u001b[0m     \u001b[39mself\u001b[39;49m\u001b[39m.\u001b[39;49mfigure\u001b[39m.\u001b[39;49mdraw(\u001b[39mself\u001b[39;49m\u001b[39m.\u001b[39;49mrenderer)\n\u001b[1;32m    389\u001b[0m     \u001b[39m# A GUI class may be need to update a window using this draw, so\u001b[39;00m\n\u001b[1;32m    390\u001b[0m     \u001b[39m# don't forget to call the superclass.\u001b[39;00m\n\u001b[1;32m    391\u001b[0m     \u001b[39msuper\u001b[39m()\u001b[39m.\u001b[39mdraw()\n",
      "File \u001b[0;32m/usr/lib/python3/dist-packages/matplotlib/artist.py:38\u001b[0m, in \u001b[0;36mallow_rasterization.<locals>.draw_wrapper\u001b[0;34m(artist, renderer, *args, **kwargs)\u001b[0m\n\u001b[1;32m     35\u001b[0m     \u001b[39mif\u001b[39;00m artist\u001b[39m.\u001b[39mget_agg_filter() \u001b[39mis\u001b[39;00m \u001b[39mnot\u001b[39;00m \u001b[39mNone\u001b[39;00m:\n\u001b[1;32m     36\u001b[0m         renderer\u001b[39m.\u001b[39mstart_filter()\n\u001b[0;32m---> 38\u001b[0m     \u001b[39mreturn\u001b[39;00m draw(artist, renderer, \u001b[39m*\u001b[39;49margs, \u001b[39m*\u001b[39;49m\u001b[39m*\u001b[39;49mkwargs)\n\u001b[1;32m     39\u001b[0m \u001b[39mfinally\u001b[39;00m:\n\u001b[1;32m     40\u001b[0m     \u001b[39mif\u001b[39;00m artist\u001b[39m.\u001b[39mget_agg_filter() \u001b[39mis\u001b[39;00m \u001b[39mnot\u001b[39;00m \u001b[39mNone\u001b[39;00m:\n",
      "File \u001b[0;32m/usr/lib/python3/dist-packages/matplotlib/figure.py:1708\u001b[0m, in \u001b[0;36mFigure.draw\u001b[0;34m(self, renderer)\u001b[0m\n\u001b[1;32m   1705\u001b[0m             \u001b[39m# ValueError can occur when resizing a window.\u001b[39;00m\n\u001b[1;32m   1707\u001b[0m     \u001b[39mself\u001b[39m\u001b[39m.\u001b[39mpatch\u001b[39m.\u001b[39mdraw(renderer)\n\u001b[0;32m-> 1708\u001b[0m     mimage\u001b[39m.\u001b[39;49m_draw_list_compositing_images(\n\u001b[1;32m   1709\u001b[0m         renderer, \u001b[39mself\u001b[39;49m, artists, \u001b[39mself\u001b[39;49m\u001b[39m.\u001b[39;49msuppressComposite)\n\u001b[1;32m   1711\u001b[0m     renderer\u001b[39m.\u001b[39mclose_group(\u001b[39m'\u001b[39m\u001b[39mfigure\u001b[39m\u001b[39m'\u001b[39m)\n\u001b[1;32m   1712\u001b[0m \u001b[39mfinally\u001b[39;00m:\n",
      "File \u001b[0;32m/usr/lib/python3/dist-packages/matplotlib/image.py:135\u001b[0m, in \u001b[0;36m_draw_list_compositing_images\u001b[0;34m(renderer, parent, artists, suppress_composite)\u001b[0m\n\u001b[1;32m    133\u001b[0m \u001b[39mif\u001b[39;00m not_composite \u001b[39mor\u001b[39;00m \u001b[39mnot\u001b[39;00m has_images:\n\u001b[1;32m    134\u001b[0m     \u001b[39mfor\u001b[39;00m a \u001b[39min\u001b[39;00m artists:\n\u001b[0;32m--> 135\u001b[0m         a\u001b[39m.\u001b[39;49mdraw(renderer)\n\u001b[1;32m    136\u001b[0m \u001b[39melse\u001b[39;00m:\n\u001b[1;32m    137\u001b[0m     \u001b[39m# Composite any adjacent images together\u001b[39;00m\n\u001b[1;32m    138\u001b[0m     image_group \u001b[39m=\u001b[39m []\n",
      "File \u001b[0;32m/usr/lib/python3/dist-packages/matplotlib/artist.py:38\u001b[0m, in \u001b[0;36mallow_rasterization.<locals>.draw_wrapper\u001b[0;34m(artist, renderer, *args, **kwargs)\u001b[0m\n\u001b[1;32m     35\u001b[0m     \u001b[39mif\u001b[39;00m artist\u001b[39m.\u001b[39mget_agg_filter() \u001b[39mis\u001b[39;00m \u001b[39mnot\u001b[39;00m \u001b[39mNone\u001b[39;00m:\n\u001b[1;32m     36\u001b[0m         renderer\u001b[39m.\u001b[39mstart_filter()\n\u001b[0;32m---> 38\u001b[0m     \u001b[39mreturn\u001b[39;00m draw(artist, renderer, \u001b[39m*\u001b[39;49margs, \u001b[39m*\u001b[39;49m\u001b[39m*\u001b[39;49mkwargs)\n\u001b[1;32m     39\u001b[0m \u001b[39mfinally\u001b[39;00m:\n\u001b[1;32m     40\u001b[0m     \u001b[39mif\u001b[39;00m artist\u001b[39m.\u001b[39mget_agg_filter() \u001b[39mis\u001b[39;00m \u001b[39mnot\u001b[39;00m \u001b[39mNone\u001b[39;00m:\n",
      "File \u001b[0;32m/usr/lib/python3/dist-packages/matplotlib/axes/_base.py:2647\u001b[0m, in \u001b[0;36m_AxesBase.draw\u001b[0;34m(self, renderer, inframe)\u001b[0m\n\u001b[1;32m   2644\u001b[0m         a\u001b[39m.\u001b[39mdraw(renderer)\n\u001b[1;32m   2645\u001b[0m     renderer\u001b[39m.\u001b[39mstop_rasterizing()\n\u001b[0;32m-> 2647\u001b[0m mimage\u001b[39m.\u001b[39;49m_draw_list_compositing_images(renderer, \u001b[39mself\u001b[39;49m, artists)\n\u001b[1;32m   2649\u001b[0m renderer\u001b[39m.\u001b[39mclose_group(\u001b[39m'\u001b[39m\u001b[39maxes\u001b[39m\u001b[39m'\u001b[39m)\n\u001b[1;32m   2650\u001b[0m \u001b[39mself\u001b[39m\u001b[39m.\u001b[39mstale \u001b[39m=\u001b[39m \u001b[39mFalse\u001b[39;00m\n",
      "File \u001b[0;32m/usr/lib/python3/dist-packages/matplotlib/image.py:135\u001b[0m, in \u001b[0;36m_draw_list_compositing_images\u001b[0;34m(renderer, parent, artists, suppress_composite)\u001b[0m\n\u001b[1;32m    133\u001b[0m \u001b[39mif\u001b[39;00m not_composite \u001b[39mor\u001b[39;00m \u001b[39mnot\u001b[39;00m has_images:\n\u001b[1;32m    134\u001b[0m     \u001b[39mfor\u001b[39;00m a \u001b[39min\u001b[39;00m artists:\n\u001b[0;32m--> 135\u001b[0m         a\u001b[39m.\u001b[39;49mdraw(renderer)\n\u001b[1;32m    136\u001b[0m \u001b[39melse\u001b[39;00m:\n\u001b[1;32m    137\u001b[0m     \u001b[39m# Composite any adjacent images together\u001b[39;00m\n\u001b[1;32m    138\u001b[0m     image_group \u001b[39m=\u001b[39m []\n",
      "File \u001b[0;32m/usr/lib/python3/dist-packages/matplotlib/artist.py:38\u001b[0m, in \u001b[0;36mallow_rasterization.<locals>.draw_wrapper\u001b[0;34m(artist, renderer, *args, **kwargs)\u001b[0m\n\u001b[1;32m     35\u001b[0m     \u001b[39mif\u001b[39;00m artist\u001b[39m.\u001b[39mget_agg_filter() \u001b[39mis\u001b[39;00m \u001b[39mnot\u001b[39;00m \u001b[39mNone\u001b[39;00m:\n\u001b[1;32m     36\u001b[0m         renderer\u001b[39m.\u001b[39mstart_filter()\n\u001b[0;32m---> 38\u001b[0m     \u001b[39mreturn\u001b[39;00m draw(artist, renderer, \u001b[39m*\u001b[39;49margs, \u001b[39m*\u001b[39;49m\u001b[39m*\u001b[39;49mkwargs)\n\u001b[1;32m     39\u001b[0m \u001b[39mfinally\u001b[39;00m:\n\u001b[1;32m     40\u001b[0m     \u001b[39mif\u001b[39;00m artist\u001b[39m.\u001b[39mget_agg_filter() \u001b[39mis\u001b[39;00m \u001b[39mnot\u001b[39;00m \u001b[39mNone\u001b[39;00m:\n",
      "File \u001b[0;32m/usr/lib/python3/dist-packages/matplotlib/axis.py:1219\u001b[0m, in \u001b[0;36mAxis.draw\u001b[0;34m(self, renderer, *args, **kwargs)\u001b[0m\n\u001b[1;32m   1215\u001b[0m \u001b[39mself\u001b[39m\u001b[39m.\u001b[39m_update_label_position(renderer)\n\u001b[1;32m   1217\u001b[0m \u001b[39mself\u001b[39m\u001b[39m.\u001b[39mlabel\u001b[39m.\u001b[39mdraw(renderer)\n\u001b[0;32m-> 1219\u001b[0m \u001b[39mself\u001b[39;49m\u001b[39m.\u001b[39;49m_update_offset_text_position(ticklabelBoxes, ticklabelBoxes2)\n\u001b[1;32m   1220\u001b[0m \u001b[39mself\u001b[39m\u001b[39m.\u001b[39moffsetText\u001b[39m.\u001b[39mset_text(\u001b[39mself\u001b[39m\u001b[39m.\u001b[39mmajor\u001b[39m.\u001b[39mformatter\u001b[39m.\u001b[39mget_offset())\n\u001b[1;32m   1221\u001b[0m \u001b[39mself\u001b[39m\u001b[39m.\u001b[39moffsetText\u001b[39m.\u001b[39mdraw(renderer)\n",
      "File \u001b[0;32m/usr/lib/python3/dist-packages/matplotlib/axis.py:2056\u001b[0m, in \u001b[0;36mXAxis._update_offset_text_position\u001b[0;34m(self, bboxes, bboxes2)\u001b[0m\n\u001b[1;32m   2054\u001b[0m     bottom \u001b[39m=\u001b[39m \u001b[39mself\u001b[39m\u001b[39m.\u001b[39maxes\u001b[39m.\u001b[39mbbox\u001b[39m.\u001b[39mymin\n\u001b[1;32m   2055\u001b[0m \u001b[39melse\u001b[39;00m:\n\u001b[0;32m-> 2056\u001b[0m     bbox \u001b[39m=\u001b[39m mtransforms\u001b[39m.\u001b[39;49mBbox\u001b[39m.\u001b[39;49munion(bboxes)\n\u001b[1;32m   2057\u001b[0m     bottom \u001b[39m=\u001b[39m bbox\u001b[39m.\u001b[39my0\n\u001b[1;32m   2058\u001b[0m \u001b[39mself\u001b[39m\u001b[39m.\u001b[39moffsetText\u001b[39m.\u001b[39mset_position(\n\u001b[1;32m   2059\u001b[0m     (x, bottom \u001b[39m-\u001b[39m \u001b[39mself\u001b[39m\u001b[39m.\u001b[39mOFFSETTEXTPAD \u001b[39m*\u001b[39m \u001b[39mself\u001b[39m\u001b[39m.\u001b[39mfigure\u001b[39m.\u001b[39mdpi \u001b[39m/\u001b[39m \u001b[39m72\u001b[39m)\n\u001b[1;32m   2060\u001b[0m )\n",
      "File \u001b[0;32m/usr/lib/python3/dist-packages/matplotlib/transforms.py:703\u001b[0m, in \u001b[0;36mBboxBase.union\u001b[0;34m(bboxes)\u001b[0m\n\u001b[1;32m    701\u001b[0m     \u001b[39mraise\u001b[39;00m \u001b[39mValueError\u001b[39;00m(\u001b[39m\"\u001b[39m\u001b[39m'\u001b[39m\u001b[39mbboxes\u001b[39m\u001b[39m'\u001b[39m\u001b[39m cannot be empty\u001b[39m\u001b[39m\"\u001b[39m)\n\u001b[1;32m    702\u001b[0m x0 \u001b[39m=\u001b[39m np\u001b[39m.\u001b[39mmin([bbox\u001b[39m.\u001b[39mxmin \u001b[39mfor\u001b[39;00m bbox \u001b[39min\u001b[39;00m bboxes])\n\u001b[0;32m--> 703\u001b[0m x1 \u001b[39m=\u001b[39m np\u001b[39m.\u001b[39mmax([bbox\u001b[39m.\u001b[39mxmax \u001b[39mfor\u001b[39;00m bbox \u001b[39min\u001b[39;00m bboxes])\n\u001b[1;32m    704\u001b[0m y0 \u001b[39m=\u001b[39m np\u001b[39m.\u001b[39mmin([bbox\u001b[39m.\u001b[39mymin \u001b[39mfor\u001b[39;00m bbox \u001b[39min\u001b[39;00m bboxes])\n\u001b[1;32m    705\u001b[0m y1 \u001b[39m=\u001b[39m np\u001b[39m.\u001b[39mmax([bbox\u001b[39m.\u001b[39mymax \u001b[39mfor\u001b[39;00m bbox \u001b[39min\u001b[39;00m bboxes])\n",
      "File \u001b[0;32m/usr/lib/python3/dist-packages/matplotlib/transforms.py:703\u001b[0m, in \u001b[0;36m<listcomp>\u001b[0;34m(.0)\u001b[0m\n\u001b[1;32m    701\u001b[0m     \u001b[39mraise\u001b[39;00m \u001b[39mValueError\u001b[39;00m(\u001b[39m\"\u001b[39m\u001b[39m'\u001b[39m\u001b[39mbboxes\u001b[39m\u001b[39m'\u001b[39m\u001b[39m cannot be empty\u001b[39m\u001b[39m\"\u001b[39m)\n\u001b[1;32m    702\u001b[0m x0 \u001b[39m=\u001b[39m np\u001b[39m.\u001b[39mmin([bbox\u001b[39m.\u001b[39mxmin \u001b[39mfor\u001b[39;00m bbox \u001b[39min\u001b[39;00m bboxes])\n\u001b[0;32m--> 703\u001b[0m x1 \u001b[39m=\u001b[39m np\u001b[39m.\u001b[39mmax([bbox\u001b[39m.\u001b[39;49mxmax \u001b[39mfor\u001b[39;00m bbox \u001b[39min\u001b[39;00m bboxes])\n\u001b[1;32m    704\u001b[0m y0 \u001b[39m=\u001b[39m np\u001b[39m.\u001b[39mmin([bbox\u001b[39m.\u001b[39mymin \u001b[39mfor\u001b[39;00m bbox \u001b[39min\u001b[39;00m bboxes])\n\u001b[1;32m    705\u001b[0m y1 \u001b[39m=\u001b[39m np\u001b[39m.\u001b[39mmax([bbox\u001b[39m.\u001b[39mymax \u001b[39mfor\u001b[39;00m bbox \u001b[39min\u001b[39;00m bboxes])\n",
      "File \u001b[0;32m/usr/lib/python3/dist-packages/matplotlib/transforms.py:360\u001b[0m, in \u001b[0;36mBboxBase.xmax\u001b[0;34m(self)\u001b[0m\n\u001b[1;32m    357\u001b[0m \u001b[39m@property\u001b[39m\n\u001b[1;32m    358\u001b[0m \u001b[39mdef\u001b[39;00m \u001b[39mxmax\u001b[39m(\u001b[39mself\u001b[39m):\n\u001b[1;32m    359\u001b[0m     \u001b[39m\"\"\"The right edge of the bounding box.\"\"\"\u001b[39;00m\n\u001b[0;32m--> 360\u001b[0m     \u001b[39mreturn\u001b[39;00m np\u001b[39m.\u001b[39mmax(\u001b[39mself\u001b[39;49m\u001b[39m.\u001b[39;49mget_points()[:, \u001b[39m0\u001b[39;49m])\n",
      "\u001b[0;31mKeyboardInterrupt\u001b[0m: "
     ]
    }
   ],
   "source": [
    "n = 1 \n",
    "while np.linalg.norm(r_pos - goal) > 1.0:\n",
    "    v_desired = v_max\n",
    "    w_desired = goal_heading\n",
    "    v_current = r_vel[0]\n",
    "    w_current = r_vel[1]\n",
    "\n",
    "    transform = np.array([[math.cos(r_heading), math.sin(r_heading)], \n",
    "                         [- math.sin(r_heading), math.cos(r_heading)]])\n",
    "\n",
    "    rel_pos = np.transpose(np.matmul(transform,np.transpose(rel_pos)))\n",
    "    rel_vel = np.transpose(np.matmul(transform,np.transpose(rel_vel)))\n",
    "    \n",
    "    \n",
    "\n",
    "\n",
    "    arguments = (\n",
    "    v_desired,\n",
    "    w_desired,\n",
    "    r_vel,\n",
    "    r_heading,\n",
    "    rel_pos,\n",
    "    rel_vel,\n",
    "    r_rad,\n",
    "    obs_rad,\n",
    "    r_vel,\n",
    "    dt\n",
    ")\n",
    "    cons = ({'type': 'ineq', 'fun': obt_avoidance_constraint , 'args': arguments})\n",
    "\n",
    "    #if (np.linalg.norm(rel_pos)<10):\n",
    "    sol = optimize.minimize(cost_fn, np.array([0, 0]), constraints = cons, args=arguments)\n",
    "    #else:\n",
    "    #    sol = optimize.minimize(cost_fn, np.array([0, 0]), method=\"SLSQP\", args=arguments\n",
    "     #               )\n",
    "    u_sol = sol['x']\n",
    "    print(u_sol)\n",
    "    transform_back = np.array([[math.cos(r_heading), -math.sin(r_heading)], \n",
    "                         [math.sin(r_heading), math.cos(r_heading)]])\n",
    "\n",
    "    rel_pos = np.transpose(np.matmul(transform_back,np.transpose(rel_pos)))\n",
    "    rel_vel = np.transpose(np.matmul(transform_back,np.transpose(rel_vel)))\n",
    "\n",
    "\n",
    "    r_vel =r_vel + np.array([u_sol[0], u_sol[1]])\n",
    "\n",
    "    if r_vel[0]>v_max:\n",
    "        r_vel[0] = v_max\n",
    "    \n",
    "    if r_vel[1]>w_cap:\n",
    "        r_vel[1] = w_cap\n",
    "    \n",
    "    if r_vel[0]< v_min:\n",
    "        r_vel[0] = v_min\n",
    "    \n",
    "    if r_vel[1] < -w_cap:\n",
    "        r_vel[1] = -w_cap\n",
    "    \n",
    "\n",
    "\n",
    "    r_heading = r_heading + r_vel[1]*dt\n",
    "    r_vel_2d = np.array([r_vel[0]*math.cos(r_heading), r_vel[0]*math.sin(r_heading)])\n",
    "    \n",
    "    r_pos = r_pos + r_vel_2d*dt\n",
    "    obst_pos = obst_pos + obst_vel*dt\n",
    "    rel_pos = obst_pos - r_pos\n",
    "    goal_heading = math.atan2(goal[1]-r_pos[1],goal[0]-r_pos[0])\n",
    "\n",
    "    rel_vel = obst_vel - r_vel_2d\n",
    "    \n",
    "\n",
    "    circle1 = plt.Circle((r_pos[0], r_pos[1]), 0.5, color='r')\n",
    "    circle2 = plt.Circle((obst_pos[0], obst_pos[1]), 0.5, color='r')\n",
    "    goal_plt = plt.Circle((15.0, 15.0), 0.1, color='g')\n",
    "    \n",
    "\n",
    "    \n",
    "    ax = plt.gca()\n",
    "    ax.cla() # clear things for fresh plot\n",
    "\n",
    "    # change default range so that new circles will work\n",
    "    ax.set_xlim((0, 20))\n",
    "    ax.set_ylim((0, 20))\n",
    "\n",
    "    ax.add_patch(circle1)\n",
    "    ax.add_patch(circle2)\n",
    "    ax.add_patch(goal_plt)\n",
    "    ax.arrow(r_pos[0],r_pos[1], math.cos(r_heading),  math.sin(r_heading), head_width = 0.2, width = 0.05)\n",
    "    \n",
    "    \n",
    "    plt.pause(0.1)\n",
    "    display.clear_output(wait=True)\n",
    "    display.display(plt.gcf())"
   ]
  },
  {
   "cell_type": "code",
   "execution_count": null,
   "metadata": {},
   "outputs": [
    {
     "name": "stdout",
     "output_type": "stream",
     "text": [
      "[[ 0.04798563 -0.07962682 -0.00362758 -0.06133663  0.01538762]\n",
      " [-0.18445498  0.14041113 -0.17986439  0.21532717  0.13832264]]\n"
     ]
    }
   ],
   "source": [
    "print(np.transpose(np.array([[1*np.random.normal(mu_x, std_x) , 1*np.random.normal(mu_y, std_y)],\n",
    "                                                        [1*np.random.normal(mu_x, std_x) , 1*np.random.normal(mu_y, std_y)],\n",
    "                                                        [1*np.random.normal(mu_x, std_x), 1*np.random.normal(mu_y, std_y) ],\n",
    "                                                        [1*np.random.normal(mu_x, std_x) , 1*np.random.normal(mu_y, std_y) ],\n",
    "                                                        [1*np.random.normal(mu_x, std_x) , 1*np.random.normal(mu_y, std_y) ]])))\n"
   ]
  }
 ],
 "metadata": {
  "kernelspec": {
   "display_name": "Python 3",
   "language": "python",
   "name": "python3"
  },
  "language_info": {
   "codemirror_mode": {
    "name": "ipython",
    "version": 3
   },
   "file_extension": ".py",
   "mimetype": "text/x-python",
   "name": "python",
   "nbconvert_exporter": "python",
   "pygments_lexer": "ipython3",
   "version": "3.8.10"
  },
  "orig_nbformat": 4,
  "vscode": {
   "interpreter": {
    "hash": "31f2aee4e71d21fbe5cf8b01ff0e069b9275f58929596ceb00d14d90e3e16cd6"
   }
  }
 },
 "nbformat": 4,
 "nbformat_minor": 2
}
